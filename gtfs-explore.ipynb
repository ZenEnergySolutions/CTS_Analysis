{
 "cells": [
  {
   "cell_type": "code",
   "execution_count": 5,
   "metadata": {
    "collapsed": true,
    "pycharm": {
     "name": "#%%\n"
    }
   },
   "outputs": [],
   "source": [
    "import numpy as np\n",
    "import pandas as pd\n",
    "import matplotlib.pyplot as plt\n",
    "import shapely as sp\n",
    "import gtfs_functions as gtfs"
   ]
  },
  {
   "cell_type": "code",
   "execution_count": 6,
   "outputs": [
    {
     "ename": "IndexError",
     "evalue": "string index out of range",
     "output_type": "error",
     "traceback": [
      "\u001B[1;31m---------------------------------------------------------------------------\u001B[0m",
      "\u001B[1;31mIndexError\u001B[0m                                Traceback (most recent call last)",
      "Input \u001B[1;32mIn [6]\u001B[0m, in \u001B[0;36m<cell line: 3>\u001B[1;34m()\u001B[0m\n\u001B[0;32m      1\u001B[0m \u001B[38;5;66;03m# DIRECTORY = '../data/gtfs'\u001B[39;00m\n\u001B[0;32m      2\u001B[0m DIRECTORY \u001B[38;5;241m=\u001B[39m \u001B[38;5;28minput\u001B[39m(\u001B[38;5;124m'\u001B[39m\u001B[38;5;124mEnter location of directory (no end slash or quotes)\u001B[39m\u001B[38;5;124m'\u001B[39m)\n\u001B[1;32m----> 3\u001B[0m \u001B[38;5;28;01mwhile\u001B[39;00m (\u001B[43mDIRECTORY\u001B[49m\u001B[43m[\u001B[49m\u001B[38;5;241;43m-\u001B[39;49m\u001B[38;5;241;43m1\u001B[39;49m\u001B[43m]\u001B[49m \u001B[38;5;241m==\u001B[39m \u001B[38;5;124m\"\u001B[39m\u001B[38;5;124m/\u001B[39m\u001B[38;5;124m\"\u001B[39m) \u001B[38;5;129;01mor\u001B[39;00m (DIRECTORY[\u001B[38;5;241m-\u001B[39m\u001B[38;5;241m1\u001B[39m] \u001B[38;5;241m==\u001B[39m \u001B[38;5;124m\"\u001B[39m\u001B[38;5;130;01m\\\\\u001B[39;00m\u001B[38;5;124m\"\u001B[39m) \u001B[38;5;129;01mor\u001B[39;00m (DIRECTORY[\u001B[38;5;241m-\u001B[39m\u001B[38;5;241m1\u001B[39m] \u001B[38;5;241m==\u001B[39m \u001B[38;5;124m\"\u001B[39m\u001B[38;5;124m'\u001B[39m\u001B[38;5;124m\"\u001B[39m) \u001B[38;5;129;01mor\u001B[39;00m (DIRECTORY[\u001B[38;5;241m-\u001B[39m\u001B[38;5;241m1\u001B[39m] \u001B[38;5;241m==\u001B[39m \u001B[38;5;124m'\u001B[39m\u001B[38;5;124m\"\u001B[39m\u001B[38;5;124m'\u001B[39m):\n\u001B[0;32m      4\u001B[0m        DIRECTORY \u001B[38;5;241m=\u001B[39m \u001B[38;5;28minput\u001B[39m(\u001B[38;5;124m'\u001B[39m\u001B[38;5;124mEnter location of directory (no end slash or quotes)\u001B[39m\u001B[38;5;124m'\u001B[39m)\n\u001B[0;32m      5\u001B[0m \u001B[38;5;28mprint\u001B[39m(DIRECTORY)\n",
      "\u001B[1;31mIndexError\u001B[0m: string index out of range"
     ]
    }
   ],
   "source": [
    "# DIRECTORY = '../data/gtfs'\n",
    "DIRECTORY = input('Enter location of directory (no end slash or quotes)')\n",
    "while (DIRECTORY[-1] == \"/\") or (DIRECTORY[-1] == \"\\\\\") or (DIRECTORY[-1] == \"'\") or (DIRECTORY[-1] == '\"'):\n",
    "       DIRECTORY = input('Enter location of directory (no end slash or quotes)')\n",
    "print(DIRECTORY)"
   ],
   "metadata": {
    "collapsed": false,
    "pycharm": {
     "name": "#%%\n"
    }
   }
  },
  {
   "cell_type": "code",
   "execution_count": null,
   "outputs": [],
   "source": [
    "calendar = pd.read_csv('{}/calendar.txt'.format(DIRECTORY))\n",
    "# calendar_attrs = pd.read_csv('{}/calendar_attributes.txt'.format(DIRECTORY))\n",
    "# directions = pd.read_csv('{}/directions.txt'.format(DIRECTORY))\n",
    "feed_info = pd.read_csv('{}/feed_info.txt'.format(DIRECTORY))\n",
    "#rider_cats = pd.read_csv('{}/rider_categories.txt'.format(DIRECTORY))\n",
    "routes = pd.read_csv('{}/routes.txt'.format(DIRECTORY))\n",
    "#runcut = pd.read_csv('{}/runcut.txt'.format(DIRECTORY))\n",
    "shapes = pd.read_csv('{}/shapes.txt'.format(DIRECTORY))\n",
    "stops = pd.read_csv('{}/stops.txt'.format(DIRECTORY))\n",
    "#stop_attrs = pd.read_csv('{}/stop_attributes.txt'.format(DIRECTORY))\n",
    "stop_times = pd.read_csv('{}/stop_times.txt'.format(DIRECTORY))\n",
    "trips = pd.read_csv('{}/trips.txt'.format(DIRECTORY))"
   ],
   "metadata": {
    "collapsed": false,
    "pycharm": {
     "name": "#%%\n"
    }
   }
  },
  {
   "cell_type": "code",
   "execution_count": null,
   "outputs": [],
   "source": [
    "date = str(feed_info.feed_start_date[0])\n",
    "date = date[:4] + '-' + date[4:6] + '-' + date[6:8]\n",
    "FILENAME = 'gtfs-' + date"
   ],
   "metadata": {
    "collapsed": false,
    "pycharm": {
     "name": "#%%\n"
    }
   }
  },
  {
   "cell_type": "code",
   "execution_count": null,
   "outputs": [],
   "source": [
    "shapes.head()"
   ],
   "metadata": {
    "collapsed": false,
    "pycharm": {
     "name": "#%%\n"
    }
   }
  },
  {
   "cell_type": "code",
   "execution_count": null,
   "outputs": [],
   "source": [
    "trips.head()"
   ],
   "metadata": {
    "collapsed": false,
    "pycharm": {
     "name": "#%%\n"
    }
   }
  },
  {
   "cell_type": "code",
   "execution_count": null,
   "outputs": [],
   "source": [
    "routes.head()"
   ],
   "metadata": {
    "collapsed": false,
    "pycharm": {
     "name": "#%%\n"
    }
   }
  },
  {
   "cell_type": "code",
   "execution_count": null,
   "outputs": [],
   "source": [
    "stop_times.head()"
   ],
   "metadata": {
    "collapsed": false,
    "pycharm": {
     "name": "#%%\n"
    }
   }
  },
  {
   "cell_type": "code",
   "execution_count": null,
   "outputs": [],
   "source": [
    "calendar.head()"
   ],
   "metadata": {
    "collapsed": false,
    "pycharm": {
     "name": "#%%\n"
    }
   }
  },
  {
   "cell_type": "code",
   "execution_count": null,
   "outputs": [],
   "source": [
    "# calendar_attrs.head()"
   ],
   "metadata": {
    "collapsed": false,
    "pycharm": {
     "name": "#%%\n"
    }
   }
  },
  {
   "cell_type": "code",
   "execution_count": null,
   "outputs": [],
   "source": [
    "stops.head()"
   ],
   "metadata": {
    "collapsed": false,
    "pycharm": {
     "name": "#%%\n"
    }
   }
  },
  {
   "cell_type": "code",
   "execution_count": null,
   "outputs": [],
   "source": [
    "stop_times_df  = stop_times.drop(columns=['pickup_type', 'drop_off_type',\n",
    "       'timepoint', 'continuous_pickup', 'continuous_drop_off',])"
   ],
   "metadata": {
    "collapsed": false,
    "pycharm": {
     "name": "#%%\n"
    }
   }
  },
  {
   "cell_type": "code",
   "execution_count": null,
   "outputs": [],
   "source": [
    "stops_df = stops.drop(columns=[ 'stop_code', 'zone_id', 'stop_url', 'location_type', 'parent_station', 'wheelchair_boarding',])"
   ],
   "metadata": {
    "collapsed": false,
    "pycharm": {
     "name": "#%%\n"
    }
   }
  },
  {
   "cell_type": "code",
   "execution_count": null,
   "outputs": [],
   "source": [
    "trips_df = trips.drop(columns=['direction_id',  'bikes_allowed',  'wheelchair_accessible',])"
   ],
   "metadata": {
    "collapsed": false,
    "pycharm": {
     "name": "#%%\n"
    }
   }
  },
  {
   "cell_type": "code",
   "execution_count": null,
   "outputs": [],
   "source": [
    "routes_df = routes.drop(columns=['agency_id',  'route_url', 'route_color',\n",
    "       'route_text_color', 'route_sort_order', 'continuous_pickup', 'continuous_drop_off',])"
   ],
   "metadata": {
    "collapsed": false,
    "pycharm": {
     "name": "#%%\n"
    }
   }
  },
  {
   "cell_type": "code",
   "execution_count": null,
   "outputs": [],
   "source": [
    "gtfs_df = stop_times_df.merge(stops_df,how='left', on='stop_id')\n",
    "gtfs_df = gtfs_df.merge(trips_df, how='left', on='trip_id')\n",
    "gtfs_df = gtfs_df.merge(calendar, how='left', on='service_id')\n",
    "gtfs_df = gtfs_df.merge(routes_df, how='left', on='route_id')\n",
    "print(gtfs_df.shape)\n",
    "gtfs_df.head()"
   ],
   "metadata": {
    "collapsed": false,
    "pycharm": {
     "name": "#%%\n"
    }
   }
  },
  {
   "cell_type": "code",
   "execution_count": null,
   "outputs": [],
   "source": [
    "size = gtfs_df.memory_usage(index=True).sum()/1000000\n",
    "print('Dataframe file size is {:.2f} MB'.format(size))"
   ],
   "metadata": {
    "collapsed": false,
    "pycharm": {
     "name": "#%%\n"
    }
   }
  },
  {
   "cell_type": "code",
   "execution_count": null,
   "outputs": [],
   "source": [
    "gtfs_df.to_excel('./notebooks/gtfs_sheets/{}.xlsx'.format(FILENAME), index=False)"
   ],
   "metadata": {
    "collapsed": false,
    "pycharm": {
     "name": "#%%\n"
    }
   }
  },
  {
   "cell_type": "code",
   "execution_count": null,
   "outputs": [],
   "source": [
    "#arrival_time = gtfs_df.groupby('route_long_name')['arrival_time'].agg('min')\n",
    "#gtfs_df['arrival_dt'] = np.where(gtfs_df['arrival_time'][:2] == '24', str(next_date) + ' ' + gtfs_df['arrival_time'],str(date) + ' ' + gtfs_df['arrival_time'] )\n",
    "gtfs_df['arrival_dt'] =  pd.to_timedelta(gtfs_df['arrival_time'])"
   ],
   "metadata": {
    "collapsed": false,
    "pycharm": {
     "name": "#%%\n"
    }
   }
  },
  {
   "cell_type": "code",
   "execution_count": null,
   "outputs": [],
   "source": [
    "date = pd.to_datetime(date)\n",
    "gtfs_df['arrival_dt'] = date +gtfs_df['arrival_dt']"
   ],
   "metadata": {
    "collapsed": false,
    "pycharm": {
     "name": "#%%\n"
    }
   }
  },
  {
   "cell_type": "code",
   "execution_count": null,
   "outputs": [],
   "source": [
    "gtfs_df.columns"
   ],
   "metadata": {
    "collapsed": false,
    "pycharm": {
     "name": "#%%\n"
    }
   }
  },
  {
   "cell_type": "code",
   "execution_count": null,
   "outputs": [],
   "source": [
    "DAY = pd.Timedelta('1 days')\n",
    "pull_in = gtfs_df.groupby(['route_long_name','service_id'])['arrival_dt'].agg(['min', 'max'])\n",
    "pull_in['time_out'] = (pull_in['max'] - pull_in['min']) #/ pd.Timedelta(hours=1)\n",
    "pull_in['charging_time'] = round((DAY - pull_in['time_out']) / pd.Timedelta(hours=1),2)\n",
    "pull_in['time_out'] = round((pull_in['max'] - pull_in['min']) / pd.Timedelta(hours=1),2)\n",
    "pull_in"
   ],
   "metadata": {
    "collapsed": false,
    "pycharm": {
     "name": "#%%\n"
    }
   }
  },
  {
   "cell_type": "code",
   "execution_count": null,
   "outputs": [],
   "source": [
    "fig, ax = plt.hist(pull_in['charging_time'])\n",
    "plt.xlabel('Charge Time')\n",
    "plt.ylabel('Number of Blcoks')\n",
    "plt.title('Available Charging Time per Route')\n",
    "ax.set_facecolor('white')\n",
    "plt.plot()"
   ],
   "metadata": {
    "collapsed": false,
    "pycharm": {
     "name": "#%%\n"
    }
   }
  },
  {
   "cell_type": "code",
   "execution_count": null,
   "outputs": [],
   "source": [
    "schedule = gtfs_df.groupby(['route_long_name','service_id'])[['monday','tuesday', 'wednesday', 'thursday', 'friday', 'saturday', 'sunday',]].agg('mean')\n",
    "schedule"
   ],
   "metadata": {
    "collapsed": false,
    "pycharm": {
     "name": "#%%\n"
    }
   }
  },
  {
   "cell_type": "code",
   "execution_count": null,
   "outputs": [],
   "source": [
    "with pd.ExcelWriter('./notebooks/route_summaries/route_summary_{}.xlsx'.format(FILENAME)) as writer:\n",
    "       pull_in.to_excel(writer, sheet_name='Pull-In' )\n",
    "       schedule.to_excel(writer, sheet_name='Schedule')"
   ],
   "metadata": {
    "collapsed": false,
    "pycharm": {
     "name": "#%%\n"
    }
   }
  }
 ],
 "metadata": {
  "kernelspec": {
   "display_name": "Python 3",
   "language": "python",
   "name": "python3"
  },
  "language_info": {
   "codemirror_mode": {
    "name": "ipython",
    "version": 2
   },
   "file_extension": ".py",
   "mimetype": "text/x-python",
   "name": "python",
   "nbconvert_exporter": "python",
   "pygments_lexer": "ipython2",
   "version": "2.7.6"
  }
 },
 "nbformat": 4,
 "nbformat_minor": 0
}